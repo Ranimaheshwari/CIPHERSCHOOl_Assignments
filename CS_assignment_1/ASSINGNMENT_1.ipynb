{
 "cells": [
  {
   "cell_type": "code",
   "execution_count": 1,
   "metadata": {},
   "outputs": [
    {
     "name": "stdout",
     "output_type": "stream",
     "text": [
      "Enter list values separated by comma : 4,4,5,6,8,4,5\n",
      "input --->  [4, 4, 5, 6, 8, 4, 5]\n",
      "list after removing all duplicacy --->  [8, 4, 5, 6]\n"
     ]
    }
   ],
   "source": [
    "# ques 1\n",
    "\n",
    "mylist=list(map(int,input(\"Enter list values separated by comma : \").split(\",\"))) #taking input from user\n",
    "\n",
    "print(\"input ---> \",mylist)\n",
    "\n",
    "l1=list(set(mylist)) # using set to remove duplicacy\n",
    "\n",
    "print(\"list after removing all duplicacy ---> \",l1)\n"
   ]
  },
  {
   "cell_type": "code",
   "execution_count": 2,
   "metadata": {},
   "outputs": [
    {
     "name": "stdout",
     "output_type": "stream",
     "text": [
      "enter length of the list : 7\n",
      "enter elements :\n",
      "4\n",
      "4\n",
      "5\n",
      "6\n",
      "8\n",
      "4\n",
      "5\n",
      "input --->  [4, 4, 5, 6, 8, 4, 5]\n",
      "list after removing all duplicacy --->  [8, 4, 5, 6]\n"
     ]
    }
   ],
   "source": [
    "# ques 1(using loop)\n",
    "\n",
    "a=int(input(\"enter length of the list : \"))\n",
    "mylist=[]\n",
    "print(\"enter elements :\")\n",
    "\n",
    "for i in range(0,a):\n",
    "  ele=int(input())\n",
    "  mylist.append(ele)\n",
    "    \n",
    "print(\"input ---> \",mylist)\n",
    "\n",
    "l1=list(set(mylist))\n",
    "print(\"list after removing all duplicacy ---> \",l1)"
   ]
  },
  {
   "cell_type": "code",
   "execution_count": 3,
   "metadata": {},
   "outputs": [
    {
     "name": "stdout",
     "output_type": "stream",
     "text": [
      "Enter tuple values separated by comma : 9,7,5,6,2,4,5,1,0\n",
      "your input is --> (9, 7, 5, 6, 2, 4, 5, 1, 0)\n",
      "length of tuple : 9\n",
      "SUM OF ELEMENTS : 39\n",
      "MAXIMUM ELEMENT :  9\n",
      "MINIMUM ELEMENT :  0\n"
     ]
    }
   ],
   "source": [
    "#ques 2\n",
    "\n",
    "mylist=list(map(int,input(\"Enter tuple values separated by comma : \").split(\",\"))) # taking input from user\n",
    "\n",
    "tup=tuple(mylist) #making list to tuple\n",
    "print(\"your input is -->\",tup)\n",
    "\n",
    "print(\"length of tuple :\",len(tup)) # length of tuple using len()\n",
    "\n",
    "print(\"SUM OF ELEMENTS :\",sum(tup)) # sum of elements using sum()\n",
    "\n",
    "print(\"MAXIMUM ELEMENT : \",max(tup)) # max out of elements using max()\n",
    "\n",
    "print(\"MINIMUM ELEMENT : \",min(tup)) # min out of elements using min()\n"
   ]
  },
  {
   "cell_type": "code",
   "execution_count": 4,
   "metadata": {},
   "outputs": [
    {
     "name": "stdout",
     "output_type": "stream",
     "text": [
      "enter length of the tuple: 9\n",
      "enter elements :\n",
      "2\n",
      "3\n",
      "5\n",
      "6\n",
      "8\n",
      "7\n",
      "4\n",
      "9\n",
      "5\n",
      "your input is : (2, 3, 5, 6, 8, 7, 4, 9, 5)\n",
      "length of tuple  : 9\n",
      "SUM OF ELEMENTS : 49\n",
      "MAXIMUM ELEMENT :  9\n",
      "MINIMUM ELEMENT :  2\n"
     ]
    }
   ],
   "source": [
    "#ques 2(using loop)\n",
    "\n",
    "a=int(input(\"enter length of the tuple: \"))\n",
    "mylist=[]\n",
    "print(\"enter elements :\")\n",
    "\n",
    "for i in range(0,a):\n",
    "  ele=int(input())\n",
    "  mylist.append(ele)\n",
    "tup=tuple(mylist)\n",
    "\n",
    "print(\"your input is :\",tup)\n",
    "print(\"length of tuple  :\",len(tup))\n",
    "print(\"SUM OF ELEMENTS :\",sum(tup))\n",
    "print(\"MAXIMUM ELEMENT : \",max(tup))\n",
    "print(\"MINIMUM ELEMENT : \",min(tup))"
   ]
  },
  {
   "cell_type": "code",
   "execution_count": 6,
   "metadata": {},
   "outputs": [
    {
     "name": "stdout",
     "output_type": "stream",
     "text": [
      "num :13\n",
      "i :1\n",
      "output -->  15\n"
     ]
    }
   ],
   "source": [
    "# ques 3\n",
    "\n",
    "num=int(input(\"num :\"))\n",
    "i=int(input(\"i :\"))\n",
    "mag_num=1<<i # using bitwise operator lef shift(<<)\n",
    "\n",
    "op=num | mag_num # use OR operation to make 1 at ith bit\n",
    "\n",
    "print(\"output --> \",op)"
   ]
  },
  {
   "cell_type": "code",
   "execution_count": 7,
   "metadata": {},
   "outputs": [
    {
     "name": "stdout",
     "output_type": "stream",
     "text": [
      "enter a number :2345671\n",
      "1\n"
     ]
    }
   ],
   "source": [
    "# ques 4\n",
    "\n",
    "num=int(input(\"enter a number :\"))\n",
    "\n",
    "bit=1 if(num & 1 > 0) else 0 # using bitwise operator and to finad eve and odd\n",
    "\n",
    "print(bit)\n"
   ]
  },
  {
   "cell_type": "code",
   "execution_count": 8,
   "metadata": {},
   "outputs": [
    {
     "name": "stdout",
     "output_type": "stream",
     "text": [
      "Enter list A values separated by comma : 2,4,5,3,4,2\n",
      "Enter list B values separated by comma : 3,2,4,5,4,3,2,1\n",
      "sorted list is [1, 2, 2, 2, 2, 3, 3, 3, 4, 4, 4, 4, 5, 5]\n"
     ]
    }
   ],
   "source": [
    "# ques 5\n",
    "\n",
    "l1=list(map(int,input(\"Enter list A values separated by comma : \").split(\",\"))) #taking user input for list A\n",
    "\n",
    "l2=list(map(int,input(\"Enter list B values separated by comma : \").split(\",\"))) # taking user input for list B\n",
    "    \n",
    "final_list=l1+l2 # merging both lists\n",
    "\n",
    "print(\"sorted list is\",sorted(final_list) ) #sorting of the final list\n"
   ]
  },
  {
   "cell_type": "code",
   "execution_count": 9,
   "metadata": {},
   "outputs": [
    {
     "name": "stdout",
     "output_type": "stream",
     "text": [
      "enter length of the list A : 5\n",
      "enter elements of list A :\n",
      "1\n",
      "2\n",
      "3\n",
      "4\n",
      "4\n",
      "enter length of the list B : 6\n",
      "enter elements of list B :\n",
      "2\n",
      "1\n",
      "3\n",
      "2\n",
      "1\n",
      "4\n",
      "sorted list is [1, 1, 1, 2, 2, 2, 3, 3, 4, 4, 4]\n"
     ]
    }
   ],
   "source": [
    "# ques 5(using loop)\n",
    "\n",
    "a=int(input(\"enter length of the list A : \"))\n",
    "l1=[]\n",
    "print(\"enter elements of list A :\")\n",
    "for i in range(0,a):\n",
    "  ele=int(input())\n",
    "  l1.append(ele)\n",
    "\n",
    "b=int(input(\"enter length of the list B : \"))\n",
    "l2=[]\n",
    "print(\"enter elements of list B :\")\n",
    "for i in range(0,b):\n",
    "  e=int(input())\n",
    "  l2.append(e)\n",
    "    \n",
    "final_list=l1+l2\n",
    "\n",
    "print(\"sorted list is\",sorted(final_list))"
   ]
  },
  {
   "cell_type": "code",
   "execution_count": 11,
   "metadata": {},
   "outputs": [
    {
     "name": "stdout",
     "output_type": "stream",
     "text": [
      "enter details :\n",
      "NAME :Berlin\n",
      "MARKS :70 \n",
      "NAME :Oslo \n",
      "MARKS :100\n",
      "NAME :Moskow \n",
      "MARKS :0\n",
      "NAME :Natum \n",
      "MARKS :50\n",
      "NAME :Nairobi\n",
      "MARKS :123\n",
      "your input --> {'Berlin': 70.0, 'Oslo ': 100.0, 'Moskow ': 0.0, 'Natum ': 50.0, 'Nairobi': 123.0}\n",
      "\n",
      "after sorting by values --> {'Moskow ': 0.0, 'Natum ': 50.0, 'Berlin': 70.0, 'Oslo ': 100.0, 'Nairobi': 123.0}\n"
     ]
    }
   ],
   "source": [
    "\n",
    "# ques 6\n",
    "\n",
    "d={}\n",
    "print(\"enter details :\") # taking user input\n",
    "\n",
    "for i in range(0,5):\n",
    "  name=input(\"NAME :\")\n",
    "  mark=float(input(\"MARKS :\"))\n",
    "  d[name]=mark\n",
    "\n",
    "print(\"your input -->\",d)\n",
    "\n",
    "a = sorted(d.items(), key=lambda x: x[1])  # sorting dict by values using lambda fun()\n",
    "print(\"\\nSorted Dict by values -->\",dict(a))\n"
   ]
  },
  {
   "cell_type": "code",
   "execution_count": null,
   "metadata": {},
   "outputs": [],
   "source": []
  }
 ],
 "metadata": {
  "kernelspec": {
   "display_name": "Python 3",
   "language": "python",
   "name": "python3"
  },
  "language_info": {
   "codemirror_mode": {
    "name": "ipython",
    "version": 3
   },
   "file_extension": ".py",
   "mimetype": "text/x-python",
   "name": "python",
   "nbconvert_exporter": "python",
   "pygments_lexer": "ipython3",
   "version": "3.7.6"
  }
 },
 "nbformat": 4,
 "nbformat_minor": 4
}
