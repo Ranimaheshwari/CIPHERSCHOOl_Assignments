{
 "cells": [
  {
   "cell_type": "code",
   "execution_count": 1,
   "metadata": {},
   "outputs": [
    {
     "name": "stdout",
     "output_type": "stream",
     "text": [
      "enter length of the list : 7\n",
      "enter elements :\n",
      "4\n",
      "4\n",
      "5\n",
      "6\n",
      "8\n",
      "4\n",
      "5\n",
      "input --->  [4, 4, 5, 6, 8, 4, 5]\n",
      "list after removing all duplicacy --->  [8, 4, 5, 6]\n"
     ]
    }
   ],
   "source": [
    "# ques 1\n",
    "\n",
    "a=int(input(\"enter length of the list : \"))\n",
    "mylist=[]\n",
    "print(\"enter elements :\")\n",
    "\n",
    "# taking input from user\n",
    "\n",
    "for i in range(0,a): \n",
    "  ele=int(input())\n",
    "  mylist.append(ele)\n",
    "print(\"input ---> \",mylist)\n",
    "\n",
    "# using set to remove duplicacy\n",
    "\n",
    "l1=list(set(mylist))\n",
    "print(\"list after removing all duplicacy ---> \",l1)"
   ]
  },
  {
   "cell_type": "code",
   "execution_count": 2,
   "metadata": {},
   "outputs": [
    {
     "name": "stdout",
     "output_type": "stream",
     "text": [
      "enter length of the tuple: 5\n",
      "enter elements :\n",
      "1\n",
      "5\n",
      "3\n",
      "9\n",
      "0\n",
      "your input is : (1, 5, 3, 9, 0)\n",
      "length of tuple : 5\n",
      "sm is : 18\n",
      "max :  9\n",
      "min :  0\n"
     ]
    }
   ],
   "source": [
    "#ques 2\n",
    "\n",
    "a=int(input(\"enter length of the tuple: \"))\n",
    "mylist=[]\n",
    "print(\"enter elements :\")\n",
    "\n",
    "# taking input from user\n",
    "\n",
    "for i in range(0,a):\n",
    "  ele=int(input())\n",
    "  mylist.append(ele)\n",
    "tup=tuple(mylist)\n",
    "print(\"your input is :\",tup)\n",
    "\n",
    "print(\"length of tuple :\",len(tup)) # length of tuple using len()\n",
    "print(\"sm is :\",sum(tup)) # sum of elements using sum()\n",
    "print(\"max : \",max(tup)) # max out of elements using max()\n",
    "print(\"min : \",min(tup)) # min out of elements using min()"
   ]
  },
  {
   "cell_type": "code",
   "execution_count": 3,
   "metadata": {},
   "outputs": [
    {
     "name": "stdout",
     "output_type": "stream",
     "text": [
      "num :13\n",
      "i :1\n",
      "output -->  15\n"
     ]
    }
   ],
   "source": [
    "# ques 3\n",
    "\n",
    "num=int(input(\"num :\"))\n",
    "i=int(input(\"i :\"))\n",
    "mag_num=1<<i # using bitwise operator lef shift(<<)\n",
    "\n",
    "op=num | mag_num # use OR operation to make 1 at ith bit\n",
    "\n",
    "print(\"output --> \",op)"
   ]
  },
  {
   "cell_type": "code",
   "execution_count": 4,
   "metadata": {},
   "outputs": [
    {
     "name": "stdout",
     "output_type": "stream",
     "text": [
      "enter a number :34521\n",
      "1\n"
     ]
    }
   ],
   "source": [
    "# ques 4\n",
    "\n",
    "num=int(input(\"enter a number :\"))\n",
    "\n",
    "bit=1 if(num & 1 > 0) else 0 # using bitwise operator and to finad eve and odd\n",
    "\n",
    "print(bit)"
   ]
  },
  {
   "cell_type": "code",
   "execution_count": 5,
   "metadata": {},
   "outputs": [
    {
     "name": "stdout",
     "output_type": "stream",
     "text": [
      "enter length of the list A : 5\n",
      "enter elements of list A :\n",
      "3\n",
      "2\n",
      "6\n",
      "9\n",
      "0\n",
      "enter length of the list B : 3\n",
      "enter elements of list B :\n",
      "1\n",
      "4\n",
      "3\n",
      "sorted list is [0, 1, 2, 3, 3, 4, 6, 9]\n"
     ]
    }
   ],
   "source": [
    "# ques 5\n",
    "\n",
    "a=int(input(\"enter length of the list A : \"))\n",
    "l1=[]\n",
    "print(\"enter elements of list A :\") #taking user input for list A\n",
    "for i in range(0,a):\n",
    "  ele=int(input())\n",
    "  l1.append(ele)\n",
    "\n",
    "b=int(input(\"enter length of the list B : \"))\n",
    "l2=[]\n",
    "print(\"enter elements of list B :\") # taking user input for B\n",
    "for i in range(0,b):\n",
    "  e=int(input())\n",
    "  l2.append(e)\n",
    "    \n",
    "final_list=l1+l2 # merging both lists\n",
    "\n",
    "s=sorted(final_list) #sorting of the final list\n",
    "print(\"sorted list is\",s)\n"
   ]
  },
  {
   "cell_type": "code",
   "execution_count": null,
   "metadata": {},
   "outputs": [],
   "source": [
    "# ques 6\n",
    "\n",
    "d={}\n",
    "print(\"enter details :\")\n",
    "for i in range(0,5):\n",
    "  name=input(\"NAME :\")\n",
    "  mark=float(input(\"MARKS :\"))\n",
    "  d[name]=mark\n",
    "print(\"your input -->\",d)"
   ]
  }
 ],
 "metadata": {
  "kernelspec": {
   "display_name": "Python 3",
   "language": "python",
   "name": "python3"
  },
  "language_info": {
   "codemirror_mode": {
    "name": "ipython",
    "version": 3
   },
   "file_extension": ".py",
   "mimetype": "text/x-python",
   "name": "python",
   "nbconvert_exporter": "python",
   "pygments_lexer": "ipython3",
   "version": "3.7.6"
  }
 },
 "nbformat": 4,
 "nbformat_minor": 4
}
